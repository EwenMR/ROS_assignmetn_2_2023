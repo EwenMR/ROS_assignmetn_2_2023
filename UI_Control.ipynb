{
 "cells": [
  {
   "cell_type": "markdown",
   "id": "ee733e7f",
   "metadata": {},
   "source": []
  },
  {
   "cell_type": "code",
   "execution_count": 1,
   "id": "57b30e8c",
   "metadata": {},
   "outputs": [],
   "source": [
    "%matplotlib widget"
   ]
  },
  {
   "cell_type": "code",
   "execution_count": 2,
   "id": "a440d487",
   "metadata": {},
   "outputs": [],
   "source": [
    "import ipywidgets as widgets\n",
    "from IPython.display import display\n",
    "from geometry_msgs.msg import Point\n",
    "from assignment_2_2023.msg import Target\n",
    "from std_msgs.msg import Empty\n",
    "\n",
    "import matplotlib.pyplot as plt\n",
    "import rospy\n",
    "from tf.transformations import quaternion_matrix\n",
    "import numpy as np\n",
    "from assignment_2_2023.msg import Posvel\n",
    "from matplotlib.animation import FuncAnimation"
   ]
  },
  {
   "cell_type": "code",
   "execution_count": 3,
   "id": "60ce3856",
   "metadata": {},
   "outputs": [],
   "source": [
    "# Initialize the ROS node\n",
    "rospy.init_node('odom_visualizer_node')\n",
    "goal_pub = rospy.Publisher('/goal', Target, queue_size=10)\n",
    "cancel_pub = rospy.Publisher('/cancel_goal', Empty, queue_size=10)"
   ]
  },
  {
   "cell_type": "code",
   "execution_count": 4,
   "id": "5287a8b3",
   "metadata": {},
   "outputs": [],
   "source": [
    "# Publishers\n",
    "\n",
    "\n",
    "# Function to publish the target coordinates\n",
    "def publish_goal(x, y):\n",
    "    msg_target = Target()\n",
    "    msg_target.x = x\n",
    "    msg_target.y = y\n",
    "    goal_pub.publish(msg_target)\n",
    "    print(f\"Goal published: x = {x}, y = {y}\")\n",
    "    return\n",
    "\n",
    "# Function to cancel the goal\n",
    "def cancel_goal(b):\n",
    "    cancel_pub.publish(Empty())\n",
    "    print(\"Goal cancelled\")\n",
    "\n",
    "# Widget callbacks\n",
    "def on_send_goal_clicked(b):\n",
    "    try:\n",
    "        x = float(x_text.value)\n",
    "        y = float(y_text.value)\n",
    "        publish_goal(x, y)\n",
    "    except ValueError as e:\n",
    "        print(f\"Error: {e}\")\n",
    "\n",
    "def on_cancel_goal_clicked(b):\n",
    "    cancel_goal(b)\n",
    "\n",
    "# Create widgets\n",
    "x_text = widgets.FloatText(value=0.0, description='X:', style={'description_width': 'initial'})\n",
    "y_text = widgets.FloatText(value=0.0, description='Y:', style={'description_width': 'initial'})\n",
    "send_goal_button = widgets.Button(description='Send Goal', button_style='success', tooltip='Send new XY coordinates as goal')\n",
    "cancel_goal_button = widgets.Button(description='Cancel Goal', button_style='danger', tooltip='Cancel current goal')\n",
    "\n",
    "# Assign widget callbacks\n",
    "send_goal_button.on_click(on_send_goal_clicked)\n",
    "cancel_goal_button.on_click(on_cancel_goal_clicked)\n",
    "\n",
    "\n"
   ]
  },
  {
   "cell_type": "code",
   "execution_count": 4,
   "id": "72ef6d1c",
   "metadata": {},
   "outputs": [
    {
     "data": {
      "application/vnd.jupyter.widget-view+json": {
       "model_id": "0af54b5167a2470a98c461fffa349c6d",
       "version_major": 2,
       "version_minor": 0
      },
      "text/plain": [
       "TwoByTwoLayout(children=(FloatText(value=0.0, description='X:', layout=Layout(grid_area='top-left')), Button(b…"
      ]
     },
     "metadata": {},
     "output_type": "display_data"
    }
   ],
   "source": [
    "# Function to setup floating point text widgets\n",
    "def setup_floatText(description):\n",
    "    return widgets.FloatText(value=0.0, description=description, disabled=False)\n",
    "\n",
    "# Function to setup button widgets\n",
    "def setup_button(name, icon, style=''):\n",
    "    return widgets.Button(description=name, button_style=style, icon=icon, tooltip=name)\n",
    "\n",
    "# Callback for sending the target to ROS\n",
    "def send_target(click):\n",
    "    target_msg = Target()\n",
    "    target_msg.x = x_widget.value\n",
    "    target_msg.y = y_widget.value\n",
    "    pub_goal.publish(target_msg)\n",
    "    print(f\"Goal published: x = {target_msg.x}, y = {target_msg.y}\")\n",
    "\n",
    "# Callback for canceling the goal in ROS\n",
    "def cancel_goal(b):\n",
    "    pub_cancel_goal.publish(Empty())\n",
    "    print(\"Goal cancelled\")\n",
    "\n",
    "# Set up widgets\n",
    "x_widget = setup_floatText('X:')\n",
    "y_widget = setup_floatText('Y:')\n",
    "b_set_target = setup_button('Send New Target', 'paper-plane', 'success')\n",
    "b_cancel_goal = setup_button('Cancel Current Goal', 'stop-circle', 'danger')\n",
    "\n",
    "# Assign callbacks to buttons\n",
    "b_set_target.on_click(send_target)\n",
    "b_cancel_goal.on_click(cancel_goal)\n",
    "\n",
    "# Layout the widgets using IPython widgets layout\n",
    "from ipywidgets import TwoByTwoLayout\n",
    "widgets_layout = TwoByTwoLayout(top_left=x_widget,\n",
    "                                top_right=b_set_target,\n",
    "                                bottom_left=y_widget,\n",
    "                                bottom_right=b_cancel_goal)\n",
    "\n",
    "display(widgets_layout)\n"
   ]
  },
  {
   "cell_type": "code",
   "execution_count": 5,
   "id": "fbab8162",
   "metadata": {},
   "outputs": [
    {
     "data": {
      "application/vnd.jupyter.widget-view+json": {
       "model_id": "211dffa8b91e4ead91716d8584a4b3c7",
       "version_major": 2,
       "version_minor": 0
      },
      "text/plain": [
       "Canvas(toolbar=Toolbar(toolitems=[('Home', 'Reset original view', 'home', 'home'), ('Back', 'Back to previous …"
      ]
     },
     "metadata": {},
     "output_type": "display_data"
    },
    {
     "ename": "NameError",
     "evalue": "name 'x_text' is not defined",
     "output_type": "error",
     "traceback": [
      "\u001b[0;31m---------------------------------------------------------------------------\u001b[0m",
      "\u001b[0;31mNameError\u001b[0m                                 Traceback (most recent call last)",
      "\u001b[0;32m/tmp/ipykernel_66134/885413802.py\u001b[0m in \u001b[0;36m<module>\u001b[0;34m\u001b[0m\n\u001b[1;32m     51\u001b[0m \u001b[0;34m\u001b[0m\u001b[0m\n\u001b[1;32m     52\u001b[0m \u001b[0;31m# Display widgets\u001b[0m\u001b[0;34m\u001b[0m\u001b[0;34m\u001b[0m\u001b[0;34m\u001b[0m\u001b[0m\n\u001b[0;32m---> 53\u001b[0;31m \u001b[0mdisplay\u001b[0m\u001b[0;34m(\u001b[0m\u001b[0mx_text\u001b[0m\u001b[0;34m,\u001b[0m \u001b[0my_text\u001b[0m\u001b[0;34m,\u001b[0m \u001b[0msend_goal_button\u001b[0m\u001b[0;34m,\u001b[0m \u001b[0mcancel_goal_button\u001b[0m\u001b[0;34m)\u001b[0m\u001b[0;34m\u001b[0m\u001b[0;34m\u001b[0m\u001b[0m\n\u001b[0m",
      "\u001b[0;31mNameError\u001b[0m: name 'x_text' is not defined"
     ]
    }
   ],
   "source": [
    "\n",
    "\n",
    "class Visualiser:\n",
    "    def __init__(self):\n",
    "        # Set up the plot environment\n",
    "        self.fig, self.ax = plt.subplots()\n",
    "        self.ln, = plt.plot([], [], 'ro', label='Robot Position')  # 'ro' for red dots\n",
    "        self.goal_marker, = plt.plot([], [], 'gx', markersize=10, label='Goal Position')  # 'gs' for green square\n",
    "        self.x_data, self.y_data = [] , []\n",
    "        self.goal_x, self.goal_y = None, None\n",
    "\n",
    "    def plot_init(self):\n",
    "        # Set the limits of the plot\n",
    "        self.ax.set_xlim(0, 10)  # Adjust based on your robot's operating area\n",
    "        self.ax.set_ylim(0, 10)\n",
    "        self.ax.legend()\n",
    "        return self.ln, self.goal_marker\n",
    "        \n",
    "    def odom_callback(self, msg):\n",
    "        # Append the position data received from the Posvel message\n",
    "        self.y_data.append(msg.y)\n",
    "        self.x_data.append(msg.x)\n",
    "\n",
    "    def goal_callback(self, msg):\n",
    "        # Update the goal position\n",
    "        self.goal_x = msg.x\n",
    "        self.goal_y = msg.y\n",
    "        # Reset the x_data and y_data when a new goal is received\n",
    "        self.x_data, self.y_data = [], []\n",
    "\n",
    "    def update_plot(self, frame):\n",
    "        # Update the robot position plot\n",
    "        self.ln.set_data(self.x_data, self.y_data)\n",
    "        # Update the goal position plot if it's set\n",
    "        if self.goal_x is not None and self.goal_y is not None:\n",
    "            self.goal_marker.set_data([self.goal_x], [self.goal_y])\n",
    "        return self.ln, self.goal_marker\n",
    "        \n",
    "\n",
    "\n",
    "# Create an instance of the Visualiser class\n",
    "vis = Visualiser()\n",
    "\n",
    "# Subscribe to the '/pos' topic for robot position and '/goal' for goal position\n",
    "sub_pos = rospy.Subscriber('/pos', Posvel, vis.odom_callback)\n",
    "sub_goal = rospy.Subscriber('/goal', Target, vis.goal_callback)\n",
    "\n",
    "# Set up the animation\n",
    "ani = FuncAnimation(vis.fig, vis.update_plot, init_func=vis.plot_init, blit=True)\n",
    "\n",
    "# Display the plot\n",
    "plt.show(block=True)\n",
    "\n",
    "# Display widgets\n",
    "display(x_text, y_text, send_goal_button, cancel_goal_button)\n"
   ]
  },
  {
   "cell_type": "code",
   "execution_count": 6,
   "id": "fdf99397",
   "metadata": {},
   "outputs": [],
   "source": [
    "ani = FuncAnimation(vis.fig, vis.update_plot, init_func=vis.plot_init)"
   ]
  },
  {
   "cell_type": "code",
   "execution_count": null,
   "id": "a2a573a2",
   "metadata": {},
   "outputs": [],
   "source": []
  }
 ],
 "metadata": {
  "kernelspec": {
   "display_name": "Python 3 (ipykernel)",
   "language": "python",
   "name": "python3"
  },
  "language_info": {
   "codemirror_mode": {
    "name": "ipython",
    "version": 3
   },
   "file_extension": ".py",
   "mimetype": "text/x-python",
   "name": "python",
   "nbconvert_exporter": "python",
   "pygments_lexer": "ipython3",
   "version": "3.8.5"
  }
 },
 "nbformat": 4,
 "nbformat_minor": 5
}
