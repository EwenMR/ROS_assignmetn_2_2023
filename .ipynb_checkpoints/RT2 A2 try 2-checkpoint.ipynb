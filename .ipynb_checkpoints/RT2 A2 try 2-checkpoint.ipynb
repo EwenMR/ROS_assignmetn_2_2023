{
 "cells": [
  {
   "cell_type": "code",
   "execution_count": 1,
   "id": "6f4d6704",
   "metadata": {},
   "outputs": [],
   "source": [
    "%matplotlib widget"
   ]
  },
  {
   "cell_type": "code",
   "execution_count": 2,
   "id": "cf89ed6d",
   "metadata": {},
   "outputs": [],
   "source": [
    "import ipywidgets as widgets\n",
    "from IPython.display import display\n",
    "from geometry_msgs.msg import Point\n",
    "from assignment_2_2023.msg import Target\n",
    "from std_msgs.msg import Empty, Bool\n",
    "\n",
    "import matplotlib.pyplot as plt\n",
    "import rospy\n",
    "from tf.transformations import quaternion_matrix\n",
    "import numpy as np\n",
    "from assignment_2_2023.msg import Posvel\n",
    "from matplotlib.animation import FuncAnimation"
   ]
  },
  {
   "cell_type": "code",
   "execution_count": 3,
   "id": "0e96e917",
   "metadata": {},
   "outputs": [],
   "source": [
    "rospy.init_node('odom_visualizer_node')\n",
    "goal_pub = rospy.Publisher('/goal_jupy', Point, queue_size=10)\n",
    "cancel_pub = rospy.Publisher('/cancel_goal', Empty, queue_size=10)"
   ]
  },
  {
   "cell_type": "code",
   "execution_count": 4,
   "id": "392f0803",
   "metadata": {},
   "outputs": [],
   "source": [
    "# Function to publish goal\n",
    "def publish_goal(b):\n",
    "    point = Point()\n",
    "    point.x = float(x_text.value)\n",
    "    point.y = float(y_text.value)\n",
    "    point.z = 0.0\n",
    "    goal_pub.publish(point)\n",
    "    print(f\"Goal published: ({point.x}, {point.y})\")\n",
    "    return\n",
    "\n",
    "# Function to cancel goal\n",
    "def cancel_goal(b):\n",
    "    cancel_msg = Empty()\n",
    "    cancel_pub.publish(cancel_msg)\n",
    "    print(\"Goal cancelled\")\n",
    "    vis.cancel_goal()\n",
    "    return\n",
    "\n",
    "# Widgets\n",
    "x_text = widgets.Text(value='0.0', description='X Goal:', continuous_update=False)\n",
    "y_text = widgets.Text(value='0.0', description='Y Goal:', continuous_update=False)\n",
    "send_goal_button = widgets.Button(description='Set Goal')\n",
    "cancel_goal_button = widgets.Button(description='Cancel Goal')\n",
    "\n",
    "# Button click actions\n",
    "send_goal_button.on_click(publish_goal)\n",
    "cancel_goal_button.on_click(cancel_goal)\n"
   ]
  },
  {
   "cell_type": "code",
   "execution_count": 5,
   "id": "c2f17366",
   "metadata": {},
   "outputs": [
    {
     "data": {
      "application/vnd.jupyter.widget-view+json": {
       "model_id": "7116d47862864b8db11c6d0d8718e46d",
       "version_major": 2,
       "version_minor": 0
      },
      "text/plain": [
       "Canvas(toolbar=Toolbar(toolitems=[('Home', 'Reset original view', 'home', 'home'), ('Back', 'Back to previous …"
      ]
     },
     "metadata": {},
     "output_type": "display_data"
    },
    {
     "data": {
      "application/vnd.jupyter.widget-view+json": {
       "model_id": "ecf8695161bb4a4fbce2f8fded07331d",
       "version_major": 2,
       "version_minor": 0
      },
      "text/plain": [
       "Text(value='0.0', continuous_update=False, description='X Goal:')"
      ]
     },
     "metadata": {},
     "output_type": "display_data"
    },
    {
     "data": {
      "application/vnd.jupyter.widget-view+json": {
       "model_id": "379877bdf6384ca09cffae81131d8ca9",
       "version_major": 2,
       "version_minor": 0
      },
      "text/plain": [
       "Text(value='0.0', continuous_update=False, description='Y Goal:')"
      ]
     },
     "metadata": {},
     "output_type": "display_data"
    },
    {
     "data": {
      "application/vnd.jupyter.widget-view+json": {
       "model_id": "62fa87c3054340e1b20a5c9e02d8d094",
       "version_major": 2,
       "version_minor": 0
      },
      "text/plain": [
       "Button(description='Set Goal', style=ButtonStyle())"
      ]
     },
     "metadata": {},
     "output_type": "display_data"
    },
    {
     "data": {
      "application/vnd.jupyter.widget-view+json": {
       "model_id": "9bc510eee7854c7892e8ffd1a3705205",
       "version_major": 2,
       "version_minor": 0
      },
      "text/plain": [
       "Button(description='Cancel Goal', style=ButtonStyle())"
      ]
     },
     "metadata": {},
     "output_type": "display_data"
    },
    {
     "name": "stdout",
     "output_type": "stream",
     "text": [
      "Goal marker cleared\n",
      "Updated robot position: (-0.009961090927901789, 1.0007312707816511)\n",
      "Updated robot position: (-0.011081163887374863, 1.000734530713873)\n",
      "Goal marker cleared\n",
      "Goal received: (1.0, 1.0)\n",
      "Goal published: (1.0, 1.0)\n"
     ]
    }
   ],
   "source": [
    "class Visualiser:\n",
    "    def __init__(self):\n",
    "        # Set up the plot environment\n",
    "        self.fig, (self.ax1, self.ax2) = plt.subplots(2, 1, figsize=(6, 10))\n",
    "\n",
    "        # Plot for robot position and goal\n",
    "        self.ln, = self.ax1.plot([], [], 'ro', label='Robot Position')  # 'ro' for red dots\n",
    "        self.goal_marker, = self.ax1.plot([], [], 'gx', markersize=10, label='Goal Position')  # 'gx' for green cross\n",
    "        self.x_data, self.y_data = [], []\n",
    "        self.goal_x, self.goal_y = None, None\n",
    "\n",
    "        # Plot for targets reached vs non-reached\n",
    "        self.targets_reached = 0\n",
    "        self.targets_non_reached = 0\n",
    "        self.targets_bar = self.ax2.bar(['Reached', 'Not Reached'], [self.targets_reached, self.targets_non_reached], color=['green', 'red'])\n",
    "\n",
    "    def plot_init(self):\n",
    "        # Set the limits of the plot\n",
    "        self.ax1.set_xlim(-10, 10)  # Adjust based on your robot's operating area\n",
    "        self.ax1.set_ylim(-10, 10)\n",
    "        self.ax1.legend()\n",
    "        \n",
    "        self.ax2.set_ylim(0, 10)\n",
    "        self.ax2.set_title('Targets Reached vs Not Reached')\n",
    "        \n",
    "        return self.ln, self.goal_marker, self.targets_bar\n",
    "\n",
    "    def odom_callback(self, msg):\n",
    "        # Append the position data received from the Posvel message\n",
    "        self.y_data.append(msg.y)\n",
    "        self.x_data.append(msg.x)\n",
    "        print(f\"Updated robot position: ({msg.x}, {msg.y})\")\n",
    "\n",
    "    def goal_callback(self, msg):\n",
    "        # Update the goal position\n",
    "        self.goal_x = msg.x\n",
    "        self.goal_y = msg.y\n",
    "        print(f\"Goal received: ({self.goal_x}, {self.goal_y})\")\n",
    "        # Reset the x_data and y_data when a new goal is received\n",
    "        self.x_data, self.y_data = [], []\n",
    "\n",
    "    def cancel_goal(self):\n",
    "        # Reset the goal position when cancelled\n",
    "        self.goal_x = None\n",
    "        self.goal_y = None\n",
    "        print(\"Goal cancelled and reset in Visualiser\")\n",
    "\n",
    "    def goal_reached_callback(self, msg):\n",
    "        if msg.data:\n",
    "            self.targets_reached += 1\n",
    "        else:\n",
    "            self.targets_non_reached += 1\n",
    "        self.update_targets_bar()\n",
    "\n",
    "    def update_targets_bar(self):\n",
    "        self.targets_bar[0].set_height(self.targets_reached)\n",
    "        self.targets_bar[1].set_height(self.targets_non_reached)\n",
    "\n",
    "    def update_plot(self, frame):\n",
    "        # Update the robot position plot\n",
    "        self.ln.set_data(self.x_data, self.y_data)\n",
    "        # Update the goal position plot if it's set\n",
    "        if self.goal_x is not None and self.goal_y is not None:\n",
    "            self.goal_marker.set_data([self.goal_x], [self.goal_y])\n",
    "            print(f\"Plotting goal at: ({self.goal_x}, {self.goal_y})\")\n",
    "        else:\n",
    "            self.goal_marker.set_data([], [])\n",
    "            print(\"Goal marker cleared\")\n",
    "        return self.ln, self.goal_marker, self.targets_bar\n",
    "\n",
    "# Create an instance of the Visualiser class\n",
    "vis = Visualiser()\n",
    "\n",
    "# Subscribe to the '/pos' topic for robot position and '/goal_from_ac' for goal position\n",
    "sub_pos = rospy.Subscriber('/pos', Posvel, vis.odom_callback)\n",
    "sub_goal = rospy.Subscriber('/goal_from_ac', Point, vis.goal_callback)\n",
    "sub_goal_status = rospy.Subscriber('/goal_reached', Bool, vis.goal_reached_callback)\n",
    "\n",
    "# Set up the animation\n",
    "ani = FuncAnimation(vis.fig, vis.update_plot, init_func=vis.plot_init, blit=True)\n",
    "\n",
    "# Display the plot\n",
    "plt.show(block=True)\n",
    "\n",
    "# Display widgets\n",
    "display(x_text, y_text, send_goal_button, cancel_goal_button)\n"
   ]
  },
  {
   "cell_type": "code",
   "execution_count": null,
   "id": "df10657e",
   "metadata": {},
   "outputs": [],
   "source": []
  }
 ],
 "metadata": {
  "kernelspec": {
   "display_name": "Python 3 (ipykernel)",
   "language": "python",
   "name": "python3"
  },
  "language_info": {
   "codemirror_mode": {
    "name": "ipython",
    "version": 3
   },
   "file_extension": ".py",
   "mimetype": "text/x-python",
   "name": "python",
   "nbconvert_exporter": "python",
   "pygments_lexer": "ipython3",
   "version": "3.8.5"
  }
 },
 "nbformat": 4,
 "nbformat_minor": 5
}
